{
 "cells": [
  {
   "cell_type": "code",
   "execution_count": 1,
   "metadata": {},
   "outputs": [
    {
     "name": "stdout",
     "output_type": "stream",
     "text": [
      "Dataset creation module imported successfully!\n"
     ]
    }
   ],
   "source": [
    "import os\n",
    "import sys\n",
    "\n",
    "# Ensure Python finds the `src` directory\n",
    "sys.path.append(os.path.abspath(\"../../src\"))\n",
    "\n",
    "# Import everything defined in `__all__`\n",
    "from causalalign.dataset_creation import (\n",
    "    expand_df_by_task_queries,\n",
    "    # generate_prompt_dataframe,\n",
    "    expand_domain_to_dataframe,\n",
    "    graph_structures,\n",
    "    inference_tasks_rw17,\n",
    "    rw_17_domain_components,\n",
    "    # create_domain_dict,\n",
    "    verbalize_domain_intro,\n",
    "    # verbalize_causal_mechanism,\n",
    "    # verbalize_inference_task,\n",
    "    # append_dfs,\n",
    ")\n",
    "\n",
    "print(\"Dataset creation module imported successfully!\")\n"
   ]
  },
  {
   "cell_type": "code",
   "execution_count": 2,
   "metadata": {},
   "outputs": [
    {
     "name": "stdout",
     "output_type": "stream",
     "text": [
      "Domain components loaded successfully!\n"
     ]
    },
    {
     "data": {
      "text/plain": [
       "{'X': {'name': 'interest rates',\n",
       "  'detailed': 'Interest rates are the rates banks charge to loan money.',\n",
       "  'p_value': {'1': 'low', '0': 'normal'},\n",
       "  'm_value': {'1': 'high', '0': 'normal'},\n",
       "  'explanations': {'p_p': 'Low interest rates stimulate economic growth, leading to greater prosperity overall, and allowing more money to be saved for retirement in particular.',\n",
       "   'p_m': 'The good economic times produced by the low interest rates leads to greater confidence and less worry about the future, so people are less concerned about retirement.',\n",
       "   'm_p': 'The high interest rates result in high yields on government bonds, which are especially attractive for retirement savings because they are such a safe investment.',\n",
       "   'm_m': 'A lot of people are making large monthly interest payments on credit card debt, and they have no money left to save for retirement.'}},\n",
       " 'Y': {'name': 'trade deficits',\n",
       "  'detailed': \"A country's trade deficit is the difference between the value of the goods that a country imports and the value of the goods that a country exports.\",\n",
       "  'p_value': {'1': 'small', '0': 'normal'},\n",
       "  'm_value': {'1': 'large', '0': 'normal'},\n",
       "  'explanations': {'p_p': 'When the economy is good, people can cover their basic expenses and so have enough money left over to contribute to their retirement accounts.',\n",
       "   'p_m': 'When the economy is good, people are optimistic and so spend rather than save.',\n",
       "   'm_p': 'People become nervous when their economy is no longer competitive enough in the world economy to export products, and begin saving for retirement as a result.',\n",
       "   'm_m': 'The loss of local manufacturing jobs means that there are people out of work, and contributions to retirement accounts decreases.'}},\n",
       " 'Z': {'name': 'retirement savings',\n",
       "  'detailed': 'Retirement savings is the money people save for their retirement.',\n",
       "  'p_value': {'1': 'high', '0': 'normal'},\n",
       "  'm_value': {'1': 'low', '0': 'normal'}}}"
      ]
     },
     "execution_count": 2,
     "metadata": {},
     "output_type": "execute_result"
    }
   ],
   "source": [
    "econ_config_rw17 = rw_17_domain_components[\"economy\"][\"variables\"]\n",
    "socio_config_rw17 = rw_17_domain_components[\"sociology\"][\"variables\"]\n",
    "weather_config_rw17 = rw_17_domain_components[\"weather\"][\"variables\"]\n",
    "print(\"Domain components loaded successfully!\")\n",
    "\n",
    "econ_config_rw17"
   ]
  },
  {
   "cell_type": "code",
   "execution_count": 3,
   "metadata": {},
   "outputs": [],
   "source": [
    "def create_domain_dict(\n",
    "    domain_name, introduction, variables_config, graph_type=\"collider\"\n",
    "):\n",
    "    \"\"\"\n",
    "    Create a domain dictionary with full support for explanations and counterbalance conditions.\n",
    "\n",
    "    Parameters:\n",
    "    -----------\n",
    "    domain_name : str\n",
    "        Domain name (e.g., \"economy\", \"sociology\")\n",
    "\n",
    "    introduction : str\n",
    "        Domain introduction text\n",
    "\n",
    "    variables_config : dict\n",
    "        Complete configuration for all variables (X, Y, Z):\n",
    "        {\n",
    "            \"X\": {\n",
    "                \"name\": \"interest rates\",\n",
    "                \"detailed\": \"Interest rates are the rates banks charge...\",\n",
    "                \"p_value\": {\"1\": \"low\", \"0\": \"normal\"},\n",
    "                \"m_value\": {\"1\": \"high\", \"0\": \"normal\"},\n",
    "                \"explanations\": {\n",
    "                    \"p_p\": \"Low interest rates stimulate economic growth...\",\n",
    "                    \"p_m\": \"The good economic times produced by...\",\n",
    "                    \"m_p\": \"The high interest rates result in high yields...\",\n",
    "                    \"m_m\": \"A lot of people are making large monthly interest...\"\n",
    "                }\n",
    "            },\n",
    "            \"Y\": {...},\n",
    "            \"Z\": {...}\n",
    "        }\n",
    "\n",
    "    graph_type : str\n",
    "        Type of causal graph (collider, fork, chain)\n",
    "\n",
    "    Returns:\n",
    "    --------\n",
    "    dict\n",
    "        Domain dictionary in the required format\n",
    "    \"\"\"\n",
    "    # Start with basic structure\n",
    "    domain_dict = {\n",
    "        \"domain_name\": domain_name,\n",
    "        \"introduction\": introduction,\n",
    "        \"variables\": {},\n",
    "        \"graph_type\": graph_type,\n",
    "    }\n",
    "\n",
    "    # Process each variable\n",
    "    for var_key, config in variables_config.items():\n",
    "        # Validate required fields\n",
    "        required_fields = [\"name\", \"detailed\", \"p_value\"]\n",
    "        for field in required_fields:\n",
    "            if field not in config:\n",
    "                raise ValueError(\n",
    "                    f\"Missing required field '{field}' for variable {var_key}\"\n",
    "                )\n",
    "\n",
    "        # Create variable entry\n",
    "        var_entry = {\n",
    "            f\"{var_key}_name\": config[\"name\"],\n",
    "            f\"{var_key}_detailed\": config[\"detailed\"],\n",
    "            \"p_value\": config[\"p_value\"].copy(),\n",
    "        }\n",
    "\n",
    "        # Add m_value if provided, otherwise use opposite of p_value\n",
    "        if \"m_value\" in config:\n",
    "            var_entry[\"m_value\"] = config[\"m_value\"].copy()\n",
    "        else:\n",
    "            # Default behavior: swap 0/1 values from p_value\n",
    "            var_entry[\"m_value\"] = {\n",
    "                \"1\": config[\"p_value\"][\"0\"],\n",
    "                \"0\": config[\"p_value\"][\"1\"],\n",
    "            }\n",
    "\n",
    "        # Add explanations if provided\n",
    "        if \"explanations\" in config:\n",
    "            var_entry[\"explanations\"] = config[\"explanations\"].copy()\n",
    "\n",
    "        # Add to domain_dict\n",
    "        domain_dict[\"variables\"][var_key] = var_entry\n",
    "\n",
    "    return domain_dict"
   ]
  },
  {
   "cell_type": "code",
   "execution_count": null,
   "metadata": {},
   "outputs": [],
   "source": []
  },
  {
   "cell_type": "code",
   "execution_count": 4,
   "metadata": {},
   "outputs": [],
   "source": [
    "def verbalize_variables_section(domain_dict, row):\n",
    "    \"\"\"\n",
    "    Create a comprehensive description of all variables based on counterbalance conditions.\n",
    "\n",
    "    Parameters:\n",
    "    -----------\n",
    "    domain_dict : dict\n",
    "        The domain dictionary containing variable information\n",
    "    row : pd.Series\n",
    "        Row from the expanded dataframe with counterbalance information\n",
    "\n",
    "    Returns:\n",
    "    --------\n",
    "    str\n",
    "        Formatted text describing all variables with their counterbalanced values\n",
    "    \"\"\"\n",
    "    domain_name = domain_dict[\"domain_name\"]\n",
    "\n",
    "    # replace domain name such that it fits into the sentence\n",
    "    if domain_name == \"economy\":\n",
    "        domain_name = \"economies\"\n",
    "\n",
    "    elif domain_name == \"sociology\":\n",
    "        domain_name = \"societies\"\n",
    "\n",
    "    elif domain_name == \"weather\":\n",
    "        domain_name = \"weather systems\"\n",
    "\n",
    "    variables_text = \" \"  # f\"\\n{domain_name}\\n********** VARIABLES **********\\n\"\n",
    "\n",
    "    for var_key, var_details in domain_dict[\"variables\"].items():\n",
    "        name = var_details[f\"{var_key}_name\"]\n",
    "        detailed = var_details[f\"{var_key}_detailed\"]\n",
    "\n",
    "        # Get appropriate value based on counterbalance\n",
    "        cntbl = row[f\"{var_key}_cntbl\"]\n",
    "        value_dict = var_details[\"p_value\"] if cntbl == \"p\" else var_details[\"m_value\"]\n",
    "\n",
    "        # Create description with on/off values\n",
    "        value_1 = value_dict[\"1\"]\n",
    "        value_0 = value_dict[\"0\"]\n",
    "\n",
    "        # Format the description\n",
    "        variables_text += f\"{detailed} Some {domain_name} have {value_1} {name}. Others have {value_0} {name}. \"  # this should be different -> needed to reproduce exact RW17 prompts, but not needed for abstract prompts\n",
    "        # else, for abstract prompts, it should be:\n",
    "        # variables_text += f\"{detailed} Sometimes {name} is {value_1} and sometimes{name} is {value_0}. \"\n",
    "\n",
    "    return variables_text"
   ]
  },
  {
   "cell_type": "code",
   "execution_count": 5,
   "metadata": {},
   "outputs": [],
   "source": [
    "def verbalize_causal_mechanism(domain_dict, row, graph_type, graph_structures):\n",
    "    \"\"\"\n",
    "    Create a detailed description of causal relationships with explanations.\n",
    "\n",
    "    Parameters:\n",
    "    -----------\n",
    "    domain_dict : dict\n",
    "        The domain dictionary\n",
    "    row : pd.Series\n",
    "        Row from the expanded dataframe with counterbalance information\n",
    "    graph_type : str\n",
    "        Type of causal graph (collider, fork, chain)\n",
    "    graph_structures : dict\n",
    "        Graph structure templates\n",
    "\n",
    "    Returns:\n",
    "    --------\n",
    "    str\n",
    "        Formatted text describing causal relationships with explanations\n",
    "    \"\"\"\n",
    "    if graph_type not in graph_structures:\n",
    "        return \"\"\n",
    "\n",
    "    domain_name = domain_dict[\"domain_name\"].upper()\n",
    "    causal_text = (\n",
    "        \" \"  # f\"\\n{domain_name}\\n********** CAUSAL RELATIONSHIPS **********\\n\"\n",
    "    )\n",
    "\n",
    "    # Get variables and their counterbalance conditions\n",
    "    x_cntbl = row[\"X_cntbl\"]\n",
    "    y_cntbl = row[\"Y_cntbl\"]\n",
    "    z_cntbl = row[\"Z_cntbl\"]\n",
    "\n",
    "    # Get variable senses\n",
    "    x_sense = row[\"X_sense\"]\n",
    "    y_sense = row[\"Y_sense\"]\n",
    "    z_sense = row[\"Z_sense\"]\n",
    "\n",
    "    # Get variable names\n",
    "    x_name = row[\"X\"]\n",
    "    y_name = row[\"Y\"]\n",
    "    z_name = row[\"Z\"]\n",
    "\n",
    "    # Build causal relationships based on graph type\n",
    "    if graph_type == \"collider\":\n",
    "        # X → Z relationship with explanation\n",
    "        x_z_relation = f\"{x_sense} {x_name} cause {z_sense} {z_name}. \"\n",
    "\n",
    "        # Get X → Z explanation\n",
    "        x_z_key = f\"{x_cntbl}_{z_cntbl}\"\n",
    "        x_z_explanation = \"\"\n",
    "        if (\n",
    "            \"explanations\" in domain_dict[\"variables\"][\"X\"]\n",
    "            and x_z_key in domain_dict[\"variables\"][\"X\"][\"explanations\"]\n",
    "        ):\n",
    "            x_z_explanation = (\n",
    "                \" \" + domain_dict[\"variables\"][\"X\"][\"explanations\"][x_z_key]\n",
    "            )\n",
    "\n",
    "        # Y → Z relationship with explanation\n",
    "        y_z_relation = f\"{y_sense} {y_name} cause {z_sense} {z_name}.\"\n",
    "\n",
    "        # Get Y → Z explanation\n",
    "        y_z_key = f\"{y_cntbl}_{z_cntbl}\"\n",
    "        y_z_explanation = \"\"\n",
    "        if (\n",
    "            \"explanations\" in domain_dict[\"variables\"][\"Y\"]\n",
    "            and y_z_key in domain_dict[\"variables\"][\"Y\"][\"explanations\"]\n",
    "        ):\n",
    "            y_z_explanation = (\n",
    "                \" \" + domain_dict[\"variables\"][\"Y\"][\"explanations\"][y_z_key]\n",
    "            )\n",
    "\n",
    "        # Combine relationships and explanations\n",
    "        causal_text += f\"{x_z_relation}{x_z_explanation} \"\n",
    "        causal_text += f\"{y_z_relation}{y_z_explanation} \"\n",
    "\n",
    "    # Add similar handling for fork and chain graphs if needed\n",
    "\n",
    "    return causal_text"
   ]
  },
  {
   "cell_type": "code",
   "execution_count": 6,
   "metadata": {},
   "outputs": [],
   "source": [
    "def verbalize_inference_task(row, nested_dict, prompt_type):\n",
    "    \"\"\"\n",
    "    Generate the verbalized inference task based on a DataFrame row.\n",
    "\n",
    "    Parameters:\n",
    "    -----------\n",
    "    row : pd.Series\n",
    "        A row from the DataFrame containing the inference task information.\n",
    "    nested_dict : dict\n",
    "        The nested dictionary containing value mappings for variables created by `create_domain_dict`.\n",
    "    prompt_type : str\n",
    "        The type of prompt to be displayed to the LLM.\n",
    "\n",
    "    Returns:\n",
    "    --------\n",
    "    str\n",
    "        The verbalized inference task statement.\n",
    "    \"\"\"\n",
    "    variables_dict = nested_dict[\"variables\"]\n",
    "    observations = row[\"observation\"].split(\", \")\n",
    "\n",
    "    # Set domain-specific observation intro\n",
    "    domain = row[\"domain\"].lower()\n",
    "    if domain == \"weather\":\n",
    "        observation_text = (\n",
    "            \"Suppose that there is a weather system that is known to have \"\n",
    "        )\n",
    "    elif domain == \"economy\":\n",
    "        observation_text = \"Suppose that the economy is currently known to have \"\n",
    "    elif domain == \"sociology\":\n",
    "        observation_text = (\n",
    "            \"Suppose that the society you live in currently exhibits the following: \"\n",
    "        )\n",
    "    else:\n",
    "        observation_text = \"You are currently observing: \"\n",
    "\n",
    "    observation_descriptions = []\n",
    "\n",
    "    for obs in observations:\n",
    "        var_name, value = obs.split(\"=\")\n",
    "        cntbl_type = row[f\"{var_name}_cntbl\"]\n",
    "\n",
    "        if var_name not in variables_dict:\n",
    "            raise KeyError(f\"Variable {var_name} not found in nested_dict['variables']\")\n",
    "\n",
    "        value_mapping = variables_dict[var_name]\n",
    "\n",
    "        if f\"{cntbl_type}_value\" in value_mapping:\n",
    "            sense_label = value_mapping[f\"{cntbl_type}_value\"].get(value)\n",
    "        else:\n",
    "            available_mapping = value_mapping.get(\n",
    "                \"p_value\", value_mapping.get(\"m_value\")\n",
    "            )\n",
    "            sense_label = available_mapping.get(value)\n",
    "\n",
    "        if sense_label is None:\n",
    "            raise KeyError(\n",
    "                f\"Value {value} for {var_name} is missing in nested_dict['variables'][{var_name}]\"\n",
    "            )\n",
    "\n",
    "        observation_descriptions.append(f\"{sense_label} {row[var_name]}\")\n",
    "\n",
    "    observation_text += \" and \".join(observation_descriptions) + \".\"\n",
    "\n",
    "    # Extract the query variable and construct the query\n",
    "    query_var = row[\"query_node\"].split(\"=\")[0]\n",
    "    query_sense = row[f\"{query_var}_sense\"]\n",
    "    query_text = f\" Your task is to estimate how likely it is that {query_sense} {row[query_var]} are present on a scale from 0 to 100, given the observations and causal relationships described. 0 means completely unlikely and 100 means completely certain. {prompt_type}\"\n",
    "\n",
    "    return observation_text + query_text\n"
   ]
  },
  {
   "cell_type": "code",
   "execution_count": 7,
   "metadata": {},
   "outputs": [],
   "source": [
    "def generate_prompt_dataframe(\n",
    "    domain_dict,\n",
    "    inference_tasks,\n",
    "    graph_type,\n",
    "    graph_structures,\n",
    "    prompt_type=\" Return your response as raw text in one single line using this exact XML format: <response><likelihood>YOUR_NUMERIC_RESPONSE_HERE</likelihood></response> Replace YOUR_NUMERIC_RESPONSE_HERE with your likelihood estimate between 0 (very unlikely) and 100 (very likely). DO NOT include any other information, explanation, or formatting in your response. DO NOT use Markdown, code blocks, quotation marks, or special characters.\",  # \"Please provide only a numeric response and no additional information\",\n",
    "    prompt_category=\"single_numeric_response\",\n",
    "    counterbalance_enabled=True,\n",
    "):\n",
    "    \"\"\"\n",
    "    Expand the DataFrame to include full prompt verbalization and graph structure.\n",
    "    \"\"\"\n",
    "    # Expand the domain dictionary into a DataFrame\n",
    "    df = expand_df_by_task_queries(\n",
    "        expand_domain_to_dataframe(domain_dict), inference_tasks\n",
    "    )\n",
    "\n",
    "    # Extract the domain introduction text\n",
    "    domain_intro = verbalize_domain_intro(domain_dict)\n",
    "\n",
    "    # Add graph type to the DataFrame\n",
    "    df[\"graph\"] = graph_type\n",
    "\n",
    "    # Generate the full prompt by combining all sections\n",
    "    df[\"prompt\"] = df.apply(\n",
    "        lambda row: domain_intro\n",
    "        + \" Here are some variables:\"\n",
    "        + verbalize_variables_section(domain_dict, row)\n",
    "        + \"Here are the causal relationships: \"\n",
    "        + verbalize_causal_mechanism(domain_dict, row, graph_type, graph_structures)\n",
    "        + verbalize_inference_task(\n",
    "            row, nested_dict=domain_dict, prompt_type=prompt_type\n",
    "        ),\n",
    "        axis=1,\n",
    "    )\n",
    "\n",
    "    df[\"prompt_category\"] = prompt_category\n",
    "    return df"
   ]
  },
  {
   "cell_type": "code",
   "execution_count": 8,
   "metadata": {},
   "outputs": [],
   "source": [
    "# Define the economy domain configuration\n",
    "economy_config = {\n",
    "    \"X\": {\n",
    "        \"name\": \"interest rates\",\n",
    "        \"detailed\": \"Interest rates are the rates banks charge to loan money.\",\n",
    "        \"p_value\": {\"1\": \"low\", \"0\": \"normal\"},\n",
    "        \"m_value\": {\"1\": \"high\", \"0\": \"normal\"},\n",
    "        \"explanations\": {\n",
    "            \"p_p\": \"Low interest rates stimulate economic growth, leading to greater prosperity overall, and allowing more money to be saved for retirement in particular.\",\n",
    "            \"p_m\": \"The good economic times produced by the low interest rates leads to greater confidence and less worry about the future, so people are less concerned about retirement.\",\n",
    "            \"m_p\": \"The high interest rates result in high yields on government bonds, which are especially attractive for retirement savings because they are such a safe investment.\",\n",
    "            \"m_m\": \"A lot of people are making large monthly interest payments on credit card debt, and they have no money left to save for retirement.\",\n",
    "        },\n",
    "    },\n",
    "    \"Y\": {\n",
    "        \"name\": \"trade deficits\",\n",
    "        \"detailed\": \"A country's trade deficit is the difference between the value of the goods that a country imports and the value of the goods that a country exports.\",\n",
    "        \"p_value\": {\"1\": \"small\", \"0\": \"normal\"},\n",
    "        \"m_value\": {\"1\": \"large\", \"0\": \"normal\"},\n",
    "        \"explanations\": {\n",
    "            \"p_p\": \"When the economy is good, people can cover their basic expenses and so have enough money left over to contribute to their retirement accounts.\",\n",
    "            \"p_m\": \"When the economy is good, people are optimistic and so spend rather than save.\",\n",
    "            \"m_p\": \"People become nervous when their economy is no longer competitive enough in the world economy to export products, and begin saving for retirement as a result.\",\n",
    "            \"m_m\": \"The loss of local manufacturing jobs means that there are people out of work, and contributions to retirement accounts decreases.\",\n",
    "        },\n",
    "    },\n",
    "    \"Z\": {\n",
    "        \"name\": \"retirement savings\",\n",
    "        \"detailed\": \"Retirement savings is the money people save for their retirement.\",\n",
    "        \"p_value\": {\"1\": \"high\", \"0\": \"normal\"},\n",
    "        \"m_value\": {\"1\": \"low\", \"0\": \"normal\"},\n",
    "    },\n",
    "}\n",
    "\n",
    "# Create the domain dictionary\n",
    "economy_domain = create_domain_dict(\n",
    "    domain_name=\"economy\",\n",
    "    introduction=\"Economists seek to describe and predict the regular patterns of economic fluctuation. To do this, they study some important variables or attributes of economies. They also study how these attributes are responsible for producing or causing one another.\",\n",
    "    variables_config=economy_config,\n",
    "    graph_type=\"collider\",\n",
    ")\n"
   ]
  },
  {
   "cell_type": "code",
   "execution_count": 9,
   "metadata": {},
   "outputs": [
    {
     "data": {
      "text/plain": [
       "(160, 24)"
      ]
     },
     "execution_count": 9,
     "metadata": {},
     "output_type": "execute_result"
    }
   ],
   "source": [
    "# Generate prompts based on dict created in this notebook\n",
    "economy_prompts_df = generate_prompt_dataframe(\n",
    "    economy_domain, inference_tasks_rw17, \"collider\", graph_structures\n",
    ")\n",
    "economy_prompts_df.shape"
   ]
  },
  {
   "cell_type": "markdown",
   "metadata": {},
   "source": [
    "### Prompts based on loaded configs"
   ]
  },
  {
   "cell_type": "code",
   "execution_count": 10,
   "metadata": {},
   "outputs": [
    {
     "name": "stdout",
     "output_type": "stream",
     "text": [
      "shape: (160, 24)\n"
     ]
    }
   ],
   "source": [
    "econ_dict_rw17 = create_domain_dict(\n",
    "    domain_name=\"economy\",\n",
    "    introduction=\"Economists seek to describe and predict the regular patterns of economic fluctuation. To do this, they study some important variables or attributes of economies. They also study how these attributes are responsible for producing or causing one another.\",\n",
    "    variables_config=econ_config_rw17,\n",
    "    graph_type=\"collider\",\n",
    ")\n",
    "# Generate prompts based on dict created in this notebook\n",
    "econ_prompts_df = generate_prompt_dataframe(\n",
    "    econ_dict_rw17, inference_tasks_rw17, \"collider\", graph_structures\n",
    ")\n",
    "print(f\"shape: {econ_prompts_df.shape}\")"
   ]
  },
  {
   "cell_type": "code",
   "execution_count": 11,
   "metadata": {},
   "outputs": [
    {
     "data": {
      "text/plain": [
       "{'domain_name': 'economy',\n",
       " 'introduction': 'Economists seek to describe and predict the regular patterns of economic fluctuation. To do this, they study some important variables or attributes of economies. They also study how these attributes are responsible for producing or causing one another.',\n",
       " 'variables': {'X': {'X_name': 'interest rates',\n",
       "   'X_detailed': 'Interest rates are the rates banks charge to loan money.',\n",
       "   'p_value': {'1': 'low', '0': 'normal'},\n",
       "   'm_value': {'1': 'high', '0': 'normal'},\n",
       "   'explanations': {'p_p': 'Low interest rates stimulate economic growth, leading to greater prosperity overall, and allowing more money to be saved for retirement in particular.',\n",
       "    'p_m': 'The good economic times produced by the low interest rates leads to greater confidence and less worry about the future, so people are less concerned about retirement.',\n",
       "    'm_p': 'The high interest rates result in high yields on government bonds, which are especially attractive for retirement savings because they are such a safe investment.',\n",
       "    'm_m': 'A lot of people are making large monthly interest payments on credit card debt, and they have no money left to save for retirement.'}},\n",
       "  'Y': {'Y_name': 'trade deficits',\n",
       "   'Y_detailed': \"A country's trade deficit is the difference between the value of the goods that a country imports and the value of the goods that a country exports.\",\n",
       "   'p_value': {'1': 'small', '0': 'normal'},\n",
       "   'm_value': {'1': 'large', '0': 'normal'},\n",
       "   'explanations': {'p_p': 'When the economy is good, people can cover their basic expenses and so have enough money left over to contribute to their retirement accounts.',\n",
       "    'p_m': 'When the economy is good, people are optimistic and so spend rather than save.',\n",
       "    'm_p': 'People become nervous when their economy is no longer competitive enough in the world economy to export products, and begin saving for retirement as a result.',\n",
       "    'm_m': 'The loss of local manufacturing jobs means that there are people out of work, and contributions to retirement accounts decreases.'}},\n",
       "  'Z': {'Z_name': 'retirement savings',\n",
       "   'Z_detailed': 'Retirement savings is the money people save for their retirement.',\n",
       "   'p_value': {'1': 'high', '0': 'normal'},\n",
       "   'm_value': {'1': 'low', '0': 'normal'}}},\n",
       " 'graph_type': 'collider'}"
      ]
     },
     "execution_count": 11,
     "metadata": {},
     "output_type": "execute_result"
    }
   ],
   "source": [
    "econ_dict_rw17"
   ]
  },
  {
   "cell_type": "markdown",
   "metadata": {},
   "source": [
    "#### Weather"
   ]
  },
  {
   "cell_type": "code",
   "execution_count": 12,
   "metadata": {},
   "outputs": [
    {
     "data": {
      "text/plain": [
       "(160, 24)"
      ]
     },
     "execution_count": 12,
     "metadata": {},
     "output_type": "execute_result"
    }
   ],
   "source": [
    "weather_dict_rw17 = create_domain_dict(\n",
    "    domain_name=\"weather\",\n",
    "    introduction=\"INTRO\",\n",
    "    variables_config=weather_config_rw17,\n",
    "    graph_type=\"collider\",\n",
    ")\n",
    "# Generate prompts based on dict created in this notebook\n",
    "weather_prompts_df = generate_prompt_dataframe(\n",
    "    weather_dict_rw17, inference_tasks_rw17, \"collider\", graph_structures\n",
    ")\n",
    "weather_prompts_df.shape"
   ]
  },
  {
   "cell_type": "markdown",
   "metadata": {},
   "source": [
    "#### Sociology"
   ]
  },
  {
   "cell_type": "code",
   "execution_count": 13,
   "metadata": {},
   "outputs": [
    {
     "data": {
      "text/plain": [
       "(160, 24)"
      ]
     },
     "execution_count": 13,
     "metadata": {},
     "output_type": "execute_result"
    }
   ],
   "source": [
    "sociology_dict_rw17 = create_domain_dict(\n",
    "    domain_name=\"sociology\",\n",
    "    introduction=\"INTRO\",\n",
    "    variables_config=socio_config_rw17,\n",
    "    graph_type=\"collider\",\n",
    ")\n",
    "# Generate prompts based on dict created in this notebook\n",
    "sociology_prompts_df = generate_prompt_dataframe(\n",
    "    sociology_dict_rw17, inference_tasks_rw17, \"collider\", graph_structures\n",
    ")\n",
    "sociology_prompts_df.shape"
   ]
  },
  {
   "cell_type": "markdown",
   "metadata": {},
   "source": [
    "### Verify Prompts\n",
    "\n",
    "\n",
    "#### Collider:\n",
    "- economy:\n",
    "    - ppp✅\n",
    "- sociology:\n",
    "    - mmp✅\n",
    "    - pmm✅\n",
    "    - mpm✅\n",
    "\n",
    "- weather:\n",
    "    - mmp✅\n",
    "    - ppp✅"
   ]
  },
  {
   "cell_type": "code",
   "execution_count": 14,
   "metadata": {},
   "outputs": [
    {
     "data": {
      "text/plain": [
       "cntbl_cond\n",
       "mmm           20\n",
       "mmp           20\n",
       "mpm           20\n",
       "mpp           20\n",
       "pmm           20\n",
       "pmp           20\n",
       "ppm           20\n",
       "ppp           20\n",
       "Name: count, dtype: int64"
      ]
     },
     "execution_count": 14,
     "metadata": {},
     "output_type": "execute_result"
    }
   ],
   "source": [
    "# now subset the dataframe for all rows where cntbl_cond is ppp\n",
    "sociology_prompts_df[[\"cntbl_cond\"]].value_counts().sort_index()"
   ]
  },
  {
   "cell_type": "code",
   "execution_count": 15,
   "metadata": {},
   "outputs": [
    {
     "data": {
      "text/plain": [
       "'INTRO Here are some variables: Urbanization is the degree to which the members of a society live in urban environments (i.e., cities) versus rural environments. Some societies have low urbanization. Others have normal urbanization. Interest in religion is the degree to which the members of a society show a curiosity in religion issues or participate in organized religions. Some societies have high interest in religion. Others have normal interest in religion. Socioeconomic mobility is the degree to which the members of a society are able to improve their social and economic status. Some societies have high socio-economic mobility. Others have normal socio-economic mobility. Here are the causal relationships:  low urbanization cause high socio-economic mobility.  People in rural areas are rarely career oriented, and so take time off from working and switch frequently between different \"temp\" jobs. high interest in religion cause high socio-economic mobility. Religion fosters communal care, and those of the same religion tend to support each other with jobs, financial favors, and so on. Suppose that the society you live in currently exhibits the following: normal urbanization. Your task is to estimate how likely it is that high interest in religion are present on a scale from 0 to 100, given the observations and causal relationships described. 0 means completely unlikely and 100 means completely certain.  Return your response as raw text in one single line using this exact XML format: <response><likelihood>YOUR_NUMERIC_RESPONSE_HERE</likelihood></response> Replace YOUR_NUMERIC_RESPONSE_HERE with your likelihood estimate between 0 (very unlikely) and 100 (very likely). DO NOT include any other information, explanation, or formatting in your response. DO NOT use Markdown, code blocks, quotation marks, or special characters.'"
      ]
     },
     "execution_count": 15,
     "metadata": {},
     "output_type": "execute_result"
    }
   ],
   "source": [
    "# get the first row of the datafrmae where cntbl_cond is ppp\n",
    "# print the entire cell value\n",
    "sociology_prompts_df[sociology_prompts_df[\"cntbl_cond\"] == \"mmp\"][[\"prompt\"]].iloc[9, 0]\n"
   ]
  },
  {
   "cell_type": "code",
   "execution_count": 16,
   "metadata": {},
   "outputs": [
    {
     "data": {
      "text/plain": [
       "'INTRO Here are some variables: Ozone is a gaseous allotrope of oxygen (O3) and is formed by exposure to UV radiation. Some weather systems have high ozone levels. Others have normal ozone levels. Air pressure is force exerted due to concentrations of air molecules. Some weather systems have low air pressure. Others have normal air pressure. Humidity is the degree to which the atmosphere contains water molecules. Some weather systems have high humidity. Others have normal humidity. Here are the causal relationships:  high ozone levels cause high humidity.  Ozone tends to rapidly break down into normal oxygen, leaving more oxygen available for the formation of water molecules (H2O). low air pressure cause high humidity. When pressure does not force water vapor to break into oxygen and hydrogen atoms, water vapor remains in abundance. Suppose that there is a weather system that is known to have high humidity and low air pressure. Your task is to estimate how likely it is that high ozone levels are present on a scale from 0 to 100, given the observations and causal relationships described. 0 means completely unlikely and 100 means completely certain.  Return your response as raw text in one single line using this exact XML format: <response><likelihood>YOUR_NUMERIC_RESPONSE_HERE</likelihood></response> Replace YOUR_NUMERIC_RESPONSE_HERE with your likelihood estimate between 0 (very unlikely) and 100 (very likely). DO NOT include any other information, explanation, or formatting in your response. DO NOT use Markdown, code blocks, quotation marks, or special characters.'"
      ]
     },
     "execution_count": 16,
     "metadata": {},
     "output_type": "execute_result"
    }
   ],
   "source": [
    "weather_prompts_df[weather_prompts_df[\"cntbl_cond\"] == \"ppp\"][[\"prompt\"]].iloc[0, 0]\n"
   ]
  },
  {
   "cell_type": "code",
   "execution_count": 17,
   "metadata": {},
   "outputs": [
    {
     "data": {
      "text/plain": [
       "\"Economists seek to describe and predict the regular patterns of economic fluctuation. To do this, they study some important variables or attributes of economies. They also study how these attributes are responsible for producing or causing one another. Here are some variables: Interest rates are the rates banks charge to loan money. Some economies have low interest rates. Others have normal interest rates. A country's trade deficit is the difference between the value of the goods that a country imports and the value of the goods that a country exports. Some economies have small trade deficits. Others have normal trade deficits. Retirement savings is the money people save for their retirement. Some economies have high retirement savings. Others have normal retirement savings. Here are the causal relationships:  low interest rates cause high retirement savings.  Low interest rates stimulate economic growth, leading to greater prosperity overall, and allowing more money to be saved for retirement in particular. small trade deficits cause high retirement savings. When the economy is good, people can cover their basic expenses and so have enough money left over to contribute to their retirement accounts. Suppose that the economy is currently known to have high retirement savings and small trade deficits. Your task is to estimate how likely it is that low interest rates are present on a scale from 0 to 100, given the observations and causal relationships described. 0 means completely unlikely and 100 means completely certain.  Return your response as raw text in one single line using this exact XML format: <response><likelihood>YOUR_NUMERIC_RESPONSE_HERE</likelihood></response> Replace YOUR_NUMERIC_RESPONSE_HERE with your likelihood estimate between 0 (very unlikely) and 100 (very likely). DO NOT include any other information, explanation, or formatting in your response. DO NOT use Markdown, code blocks, quotation marks, or special characters.\""
      ]
     },
     "execution_count": 17,
     "metadata": {},
     "output_type": "execute_result"
    }
   ],
   "source": [
    "econ_prompts_df[econ_prompts_df[\"cntbl_cond\"] == \"ppp\"][[\"prompt\"]].iloc[0, 0]\n"
   ]
  },
  {
   "cell_type": "markdown",
   "metadata": {},
   "source": [
    "# Fork"
   ]
  },
  {
   "cell_type": "markdown",
   "metadata": {},
   "source": [
    "### Verify Prompts\n",
    "\n",
    "\n",
    "#### Fork:✅\n",
    "- economy:\n",
    "    - mmp\n",
    "    - mpm\n",
    "    - ppp\n",
    "- sociology:\n",
    "    - mmp\n",
    "    - pmm\n",
    "\n",
    "\n",
    "- weather:\n",
    "    - ppp"
   ]
  },
  {
   "cell_type": "markdown",
   "metadata": {},
   "source": []
  }
 ],
 "metadata": {
  "kernelspec": {
   "display_name": "llm-causality",
   "language": "python",
   "name": "python3"
  },
  "language_info": {
   "codemirror_mode": {
    "name": "ipython",
    "version": 3
   },
   "file_extension": ".py",
   "mimetype": "text/x-python",
   "name": "python",
   "nbconvert_exporter": "python",
   "pygments_lexer": "ipython3",
   "version": "3.11.10"
  }
 },
 "nbformat": 4,
 "nbformat_minor": 2
}
